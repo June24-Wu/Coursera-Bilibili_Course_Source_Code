{
 "cells": [
  {
   "cell_type": "code",
   "execution_count": 20,
   "metadata": {
    "ExecuteTime": {
     "end_time": "2021-04-07T07:12:05.352710Z",
     "start_time": "2021-04-07T07:12:05.346726Z"
    }
   },
   "outputs": [
    {
     "name": "stdout",
     "output_type": "stream",
     "text": [
      "6\n"
     ]
    }
   ],
   "source": [
    "def max_prod_naive(arr = None):\n",
    "    product = 0\n",
    "    for i in range(arr):\n",
    "        for j in range(i+1,arr):\n",
    "            product = max(product,i * j)\n",
    "    return product\n",
    "\n",
    "print(max_prod_naive(arr=4))"
   ]
  }
 ],
 "metadata": {
  "kernelspec": {
   "display_name": "Python 3",
   "language": "python",
   "name": "python3"
  },
  "language_info": {
   "codemirror_mode": {
    "name": "ipython",
    "version": 3
   },
   "file_extension": ".py",
   "mimetype": "text/x-python",
   "name": "python",
   "nbconvert_exporter": "python",
   "pygments_lexer": "ipython3",
   "version": "3.8.3"
  }
 },
 "nbformat": 4,
 "nbformat_minor": 4
}
